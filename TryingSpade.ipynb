{
  "nbformat": 4,
  "nbformat_minor": 0,
  "metadata": {
    "colab": {
      "name": "TryingSpade.ipynb",
      "provenance": [],
      "include_colab_link": true
    },
    "kernelspec": {
      "name": "python3",
      "display_name": "Python 3"
    }
  },
  "cells": [
    {
      "cell_type": "markdown",
      "metadata": {
        "id": "view-in-github",
        "colab_type": "text"
      },
      "source": [
        "<a href=\"https://colab.research.google.com/github/KevinSikorskiBase2S/machine-learning-intro-workshop/blob/master/TryingSpade.ipynb\" target=\"_parent\"><img src=\"https://colab.research.google.com/assets/colab-badge.svg\" alt=\"Open In Colab\"/></a>"
      ]
    },
    {
      "cell_type": "markdown",
      "metadata": {
        "id": "McjyqEmQe2tE",
        "colab_type": "text"
      },
      "source": [
        "Ripped unceremoniously from https://github.com/NVlabs/SPADE\n",
        "\n",
        "This will take more futzing with to make it work."
      ]
    },
    {
      "cell_type": "code",
      "metadata": {
        "id": "G-xKhJkYTRLG",
        "colab_type": "code",
        "colab": {
          "base_uri": "https://localhost:8080/",
          "height": 126
        },
        "outputId": "f9a80fab-8640-42c5-a7a5-5a6f43c6e2b8"
      },
      "source": [
        "!git clone https://github.com/NVlabs/SPADE.git\n",
        "%cd /content/SPADE/"
      ],
      "execution_count": 1,
      "outputs": [
        {
          "output_type": "stream",
          "text": [
            "Cloning into 'SPADE'...\n",
            "remote: Enumerating objects: 465, done.\u001b[K\n",
            "remote: Total 465 (delta 0), reused 0 (delta 0), pack-reused 465\u001b[K\n",
            "Receiving objects: 100% (465/465), 21.93 MiB | 36.33 MiB/s, done.\n",
            "Resolving deltas: 100% (168/168), done.\n",
            "/content/SPADE\n"
          ],
          "name": "stdout"
        }
      ]
    },
    {
      "cell_type": "markdown",
      "metadata": {
        "id": "B8COPYx9UbRY",
        "colab_type": "text"
      },
      "source": [
        "Sanity check..."
      ]
    },
    {
      "cell_type": "code",
      "metadata": {
        "id": "pZGNssW3TnD3",
        "colab_type": "code",
        "colab": {
          "base_uri": "https://localhost:8080/",
          "height": 126
        },
        "outputId": "6e555415-cb0c-461b-cfec-b1708bd64d71"
      },
      "source": [
        "!pwd\n",
        "!ls"
      ],
      "execution_count": 2,
      "outputs": [
        {
          "output_type": "stream",
          "text": [
            "/content/SPADE\n",
            "[Errno 2] No such file or directory: 'SPADE'\n",
            "/content/SPADE\n",
            "/content/SPADE\n",
            "data\t  docs\t      models   README.md\t test.py   train.py\n",
            "datasets  LICENSE.md  options  requirements.txt  trainers  util\n"
          ],
          "name": "stdout"
        }
      ]
    },
    {
      "cell_type": "code",
      "metadata": {
        "id": "0XjDmh3MTZ6X",
        "colab_type": "code",
        "colab": {
          "base_uri": "https://localhost:8080/",
          "height": 455
        },
        "outputId": "a877afef-5b7a-46bb-bbb9-0835979c575a"
      },
      "source": [
        "!pip install -r requirements.txt"
      ],
      "execution_count": 3,
      "outputs": [
        {
          "output_type": "stream",
          "text": [
            "Requirement already satisfied: torch>=1.0.0 in /usr/local/lib/python3.6/dist-packages (from -r requirements.txt (line 1)) (1.2.0)\n",
            "Requirement already satisfied: torchvision in /usr/local/lib/python3.6/dist-packages (from -r requirements.txt (line 2)) (0.4.0)\n",
            "Collecting dominate>=2.3.1 (from -r requirements.txt (line 3))\n",
            "  Downloading https://files.pythonhosted.org/packages/1d/64/593e829416c951eb35c2246430d59b86f640087e29e71f32632bcde5d0f7/dominate-2.4.0-py2.py3-none-any.whl\n",
            "Requirement already satisfied: dill in /usr/local/lib/python3.6/dist-packages (from -r requirements.txt (line 4)) (0.3.0)\n",
            "Requirement already satisfied: scikit-image in /usr/local/lib/python3.6/dist-packages (from -r requirements.txt (line 5)) (0.15.0)\n",
            "Requirement already satisfied: numpy in /usr/local/lib/python3.6/dist-packages (from torch>=1.0.0->-r requirements.txt (line 1)) (1.16.5)\n",
            "Requirement already satisfied: pillow>=4.1.1 in /usr/local/lib/python3.6/dist-packages (from torchvision->-r requirements.txt (line 2)) (4.3.0)\n",
            "Requirement already satisfied: six in /usr/local/lib/python3.6/dist-packages (from torchvision->-r requirements.txt (line 2)) (1.12.0)\n",
            "Requirement already satisfied: matplotlib!=3.0.0,>=2.0.0 in /usr/local/lib/python3.6/dist-packages (from scikit-image->-r requirements.txt (line 5)) (3.0.3)\n",
            "Requirement already satisfied: scipy>=0.17.0 in /usr/local/lib/python3.6/dist-packages (from scikit-image->-r requirements.txt (line 5)) (1.3.1)\n",
            "Requirement already satisfied: PyWavelets>=0.4.0 in /usr/local/lib/python3.6/dist-packages (from scikit-image->-r requirements.txt (line 5)) (1.0.3)\n",
            "Requirement already satisfied: networkx>=2.0 in /usr/local/lib/python3.6/dist-packages (from scikit-image->-r requirements.txt (line 5)) (2.3)\n",
            "Requirement already satisfied: imageio>=2.0.1 in /usr/local/lib/python3.6/dist-packages (from scikit-image->-r requirements.txt (line 5)) (2.4.1)\n",
            "Requirement already satisfied: olefile in /usr/local/lib/python3.6/dist-packages (from pillow>=4.1.1->torchvision->-r requirements.txt (line 2)) (0.46)\n",
            "Requirement already satisfied: cycler>=0.10 in /usr/local/lib/python3.6/dist-packages (from matplotlib!=3.0.0,>=2.0.0->scikit-image->-r requirements.txt (line 5)) (0.10.0)\n",
            "Requirement already satisfied: kiwisolver>=1.0.1 in /usr/local/lib/python3.6/dist-packages (from matplotlib!=3.0.0,>=2.0.0->scikit-image->-r requirements.txt (line 5)) (1.1.0)\n",
            "Requirement already satisfied: pyparsing!=2.0.4,!=2.1.2,!=2.1.6,>=2.0.1 in /usr/local/lib/python3.6/dist-packages (from matplotlib!=3.0.0,>=2.0.0->scikit-image->-r requirements.txt (line 5)) (2.4.2)\n",
            "Requirement already satisfied: python-dateutil>=2.1 in /usr/local/lib/python3.6/dist-packages (from matplotlib!=3.0.0,>=2.0.0->scikit-image->-r requirements.txt (line 5)) (2.5.3)\n",
            "Requirement already satisfied: decorator>=4.3.0 in /usr/local/lib/python3.6/dist-packages (from networkx>=2.0->scikit-image->-r requirements.txt (line 5)) (4.4.0)\n",
            "Requirement already satisfied: setuptools in /usr/local/lib/python3.6/dist-packages (from kiwisolver>=1.0.1->matplotlib!=3.0.0,>=2.0.0->scikit-image->-r requirements.txt (line 5)) (41.2.0)\n",
            "Installing collected packages: dominate\n",
            "Successfully installed dominate-2.4.0\n"
          ],
          "name": "stdout"
        }
      ]
    },
    {
      "cell_type": "code",
      "metadata": {
        "id": "lWi_TEjBTZ_N",
        "colab_type": "code",
        "colab": {
          "base_uri": "https://localhost:8080/",
          "height": 145
        },
        "outputId": "0257f6bd-2547-442a-94a4-ae1ac190aba8"
      },
      "source": [
        "%cd models/networks/\n",
        "!git clone https://github.com/vacancy/Synchronized-BatchNorm-PyTorch\n",
        "!cp -rf Synchronized-BatchNorm-PyTorch/sync_batchnorm .\n",
        "%cd ../../"
      ],
      "execution_count": 4,
      "outputs": [
        {
          "output_type": "stream",
          "text": [
            "/content/SPADE/models/networks\n",
            "Cloning into 'Synchronized-BatchNorm-PyTorch'...\n",
            "remote: Enumerating objects: 158, done.\u001b[K\n",
            "remote: Total 158 (delta 0), reused 0 (delta 0), pack-reused 158\u001b[K\n",
            "Receiving objects: 100% (158/158), 34.24 KiB | 1.49 MiB/s, done.\n",
            "Resolving deltas: 100% (94/94), done.\n",
            "/content/SPADE\n"
          ],
          "name": "stdout"
        }
      ]
    },
    {
      "cell_type": "code",
      "metadata": {
        "id": "Boo-Zv-KTaEL",
        "colab_type": "code",
        "colab": {}
      },
      "source": [
        "!mkdir checkpoints"
      ],
      "execution_count": 0,
      "outputs": []
    },
    {
      "cell_type": "markdown",
      "metadata": {
        "id": "lGziL3wBV_vR",
        "colab_type": "text"
      },
      "source": [
        "Copy checkpoints.tar.gz to /content/SPADE/checkpoints/  (manual step for now)"
      ]
    },
    {
      "cell_type": "code",
      "metadata": {
        "id": "qslLfs-DV_UQ",
        "colab_type": "code",
        "colab": {
          "base_uri": "https://localhost:8080/",
          "height": 108
        },
        "outputId": "2aba32b6-f3b7-4d4b-855e-19b595c17ec3"
      },
      "source": [
        "%cd checkpoints\n",
        "!tar -xvfz checkpoints.tar.gz\n",
        "%cd ..\n",
        "!pwd"
      ],
      "execution_count": 9,
      "outputs": [
        {
          "output_type": "stream",
          "text": [
            "/content/SPADE/checkpoints\n",
            "tar: z: Cannot open: No such file or directory\n",
            "tar: Error is not recoverable: exiting now\n",
            "/content/SPADE\n",
            "/content/SPADE\n"
          ],
          "name": "stdout"
        }
      ]
    },
    {
      "cell_type": "markdown",
      "metadata": {
        "id": "8YsKUvLGVCPP",
        "colab_type": "text"
      },
      "source": [
        "Run test.py"
      ]
    },
    {
      "cell_type": "code",
      "metadata": {
        "id": "pAjxvkcZVD8P",
        "colab_type": "code",
        "colab": {}
      },
      "source": [
        "import os\n",
        "from collections import OrderedDict\n",
        "\n",
        "import data\n",
        "from options.test_options import TestOptions\n",
        "from models.pix2pix_model import Pix2PixModel\n",
        "from util.visualizer import Visualizer\n",
        "from util import html"
      ],
      "execution_count": 0,
      "outputs": []
    },
    {
      "cell_type": "code",
      "metadata": {
        "id": "VWSF2Oc6VEAk",
        "colab_type": "code",
        "colab": {}
      },
      "source": [
        "opt = TestOptions().parse()\n",
        "\n",
        "dataloader = data.create_dataloader(opt)\n",
        "\n",
        "model = Pix2PixModel(opt)\n",
        "model.eval()\n",
        "\n",
        "visualizer = Visualizer(opt)"
      ],
      "execution_count": 0,
      "outputs": []
    },
    {
      "cell_type": "code",
      "metadata": {
        "id": "qPezTiiATaJM",
        "colab_type": "code",
        "colab": {}
      },
      "source": [
        "# create a webpage that summarizes the all results\n",
        "web_dir = os.path.join(opt.results_dir, opt.name,\n",
        "                       '%s_%s' % (opt.phase, opt.which_epoch))\n",
        "webpage = html.HTML(web_dir,\n",
        "                    'Experiment = %s, Phase = %s, Epoch = %s' %\n",
        "                    (opt.name, opt.phase, opt.which_epoch))\n",
        "\n",
        "# test\n",
        "for i, data_i in enumerate(dataloader):\n",
        "    if i * opt.batchSize >= opt.how_many:\n",
        "        break\n",
        "\n",
        "    generated = model(data_i, mode='inference')\n",
        "\n",
        "    img_path = data_i['path']\n",
        "    for b in range(generated.shape[0]):\n",
        "        print('process image... %s' % img_path[b])\n",
        "        visuals = OrderedDict([('input_label', data_i['label'][b]),\n",
        "                               ('synthesized_image', generated[b])])\n",
        "        visualizer.save_images(webpage, visuals, img_path[b:b + 1])\n",
        "\n",
        "webpage.save()"
      ],
      "execution_count": 0,
      "outputs": []
    }
  ]
}