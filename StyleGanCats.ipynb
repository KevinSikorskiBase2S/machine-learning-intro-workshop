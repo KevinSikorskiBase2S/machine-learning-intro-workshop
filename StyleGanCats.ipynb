{
  "nbformat": 4,
  "nbformat_minor": 0,
  "metadata": {
    "colab": {
      "name": "StyleGanCats.ipynb",
      "provenance": [],
      "include_colab_link": true
    },
    "kernelspec": {
      "name": "python3",
      "display_name": "Python 3"
    },
    "accelerator": "GPU"
  },
  "cells": [
    {
      "cell_type": "markdown",
      "metadata": {
        "id": "view-in-github",
        "colab_type": "text"
      },
      "source": [
        "<a href=\"https://colab.research.google.com/github/KevinSikorskiBase2S/machine-learning-intro-workshop/blob/master/StyleGanCats.ipynb\" target=\"_parent\"><img src=\"https://colab.research.google.com/assets/colab-badge.svg\" alt=\"Open In Colab\"/></a>"
      ]
    },
    {
      "cell_type": "markdown",
      "metadata": {
        "id": "j9Gw7q2hON8T",
        "colab_type": "text"
      },
      "source": [
        "Let there be cats!"
      ]
    },
    {
      "cell_type": "code",
      "metadata": {
        "id": "M4LFTaYSOJCz",
        "colab_type": "code",
        "colab": {}
      },
      "source": [
        "!git clone https://github.com/NVlabs/stylegan\n",
        "%cd stylegan\n",
        "\n",
        "import os\n",
        "import pickle\n",
        "import numpy as np\n",
        "import PIL.Image\n",
        "import dnnlib\n",
        "import config\n",
        "import matplotlib\n",
        "import numpy as np\n",
        "import matplotlib.pyplot as plt\n",
        "%matplotlib inline  \n",
        "import dnnlib.tflib as tflib\n",
        "import tensorflow as tf\n",
        "import random\n",
        "from PIL import Image, ImageOps\n",
        "from IPython.display import display\n",
        "import scipy.misc\n",
        "\n",
        "tflib.init_tf()"
      ],
      "execution_count": 0,
      "outputs": []
    },
    {
      "cell_type": "code",
      "metadata": {
        "id": "KPuaojiWPtwl",
        "colab_type": "code",
        "colab": {}
      },
      "source": [
        "import boto3\n",
        "#####from sagemaker import get_execution_role"
      ],
      "execution_count": 0,
      "outputs": []
    },
    {
      "cell_type": "code",
      "metadata": {
        "id": "nN0EORjTRI8N",
        "colab_type": "code",
        "colab": {}
      },
      "source": [
        "url_cats        = 'https://drive.google.com/uc?id=1MQywl0FNt6lHu8E_EUqnRbviagS7fbiJ' # karras2019stylegan-cats-256x256.pkl\n",
        "\n",
        "_Gs_cache = dict()\n",
        "\n",
        "def load_Gs(url):\n",
        "    if url not in _Gs_cache:\n",
        "        with dnnlib.util.open_url(url, cache_dir=config.cache_dir) as f:\n",
        "            _G, _D, Gs = pickle.load(f)\n",
        "        _Gs_cache[url] = Gs\n",
        "    return _Gs_cache[url]\n",
        "  \n",
        "load_Gs(url_cats)\n",
        "Gs = _Gs_cache[url_cats]"
      ],
      "execution_count": 0,
      "outputs": []
    },
    {
      "cell_type": "code",
      "metadata": {
        "id": "4yQez5AWP2gc",
        "colab_type": "code",
        "colab": {}
      },
      "source": [
        "rnd = np.random.RandomState(random.randrange(0,5000))\n",
        "latents = rnd.randn(1, Gs.input_shape[1])\n",
        "fmt = dict(func=tflib.convert_images_to_uint8, nchw_to_nhwc=True)\n",
        "images = Gs.run(latents, None, truncation_psi=0.5, randomize_noise=True, output_transform=fmt)\n",
        "img = Image.fromarray(images[0])\n",
        "img.resize((510,510))\n",
        "display(img)"
      ],
      "execution_count": 0,
      "outputs": []
    }
  ]
}