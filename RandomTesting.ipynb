{
  "nbformat": 4,
  "nbformat_minor": 0,
  "metadata": {
    "colab": {
      "name": "RandomTesting.ipynb",
      "provenance": [],
      "include_colab_link": true
    },
    "kernelspec": {
      "name": "python3",
      "display_name": "Python 3"
    }
  },
  "cells": [
    {
      "cell_type": "markdown",
      "metadata": {
        "id": "view-in-github",
        "colab_type": "text"
      },
      "source": [
        "<a href=\"https://colab.research.google.com/github/KevinSikorskiBase2S/machine-learning-intro-workshop/blob/master/RandomTesting.ipynb\" target=\"_parent\"><img src=\"https://colab.research.google.com/assets/colab-badge.svg\" alt=\"Open In Colab\"/></a>"
      ]
    },
    {
      "cell_type": "markdown",
      "metadata": {
        "id": "3G6QmTgGxS4G",
        "colab_type": "text"
      },
      "source": [
        "# Mounting Google Drive and reading a file from it."
      ]
    },
    {
      "cell_type": "markdown",
      "metadata": {
        "id": "ij8P0mQF0Acf",
        "colab_type": "text"
      },
      "source": [
        "### Authenticate\n",
        "\n",
        "Do this just once ever"
      ]
    },
    {
      "cell_type": "code",
      "metadata": {
        "id": "_p3X_0HVxcTX",
        "colab_type": "code",
        "colab": {
          "base_uri": "https://localhost:8080/",
          "height": 35
        },
        "outputId": "0547fd24-8871-4a78-c4eb-a7c86df33c6e"
      },
      "source": [
        "# Import PyDrive and associated libraries.\n",
        "# This only needs to be done once in a notebook.\n",
        "from pydrive.auth import GoogleAuth\n",
        "from pydrive.drive import GoogleDrive\n",
        "from google.colab import auth\n",
        "from oauth2client.client import GoogleCredentials\n",
        "\n",
        "# Authenticate and create the PyDrive client.\n",
        "# This only needs to be done once in a notebook.\n",
        "auth.authenticate_user()\n",
        "gauth = GoogleAuth()\n",
        "gauth.credentials = GoogleCredentials.get_application_default()\n",
        "drive = GoogleDrive(gauth)\n",
        "\n",
        "# Create & upload a text file.\n",
        "uploaded = drive.CreateFile({'title': 'Sample file.txt'})\n",
        "uploaded.SetContentString('Sample upload file content')\n",
        "uploaded.Upload()\n",
        "print('Uploaded file with ID {}'.format(uploaded.get('id')))"
      ],
      "execution_count": 1,
      "outputs": [
        {
          "output_type": "stream",
          "text": [
            "Uploaded file with ID 1c0yViSZeUVCu0-KVomypdF_ed27rd6ea\n"
          ],
          "name": "stdout"
        }
      ]
    },
    {
      "cell_type": "markdown",
      "metadata": {
        "id": "Vq71CQH80GH3",
        "colab_type": "text"
      },
      "source": [
        "### Upload"
      ]
    },
    {
      "cell_type": "code",
      "metadata": {
        "id": "ZqL4jplBz63_",
        "colab_type": "code",
        "colab": {}
      },
      "source": [
        "# Create & upload a text file.\n",
        "uploaded = drive.CreateFile({'title': 'Sample file.txt'})\n",
        "uploaded.SetContentString('Sample upload file content')\n",
        "uploaded.Upload()\n",
        "print('Uploaded file with ID {}'.format(uploaded.get('id')))"
      ],
      "execution_count": 0,
      "outputs": []
    },
    {
      "cell_type": "markdown",
      "metadata": {
        "id": "ZfPltaKJz38C",
        "colab_type": "text"
      },
      "source": [
        "### Download\n",
        "\n",
        "May have to authenticate again"
      ]
    },
    {
      "cell_type": "code",
      "metadata": {
        "id": "UVohYvbw0H2v",
        "colab_type": "code",
        "colab": {
          "base_uri": "https://localhost:8080/",
          "height": 217
        },
        "outputId": "d0020483-6051-4dc9-de0f-7bccb77f151d"
      },
      "source": [
        "from google.colab import drive\n",
        "drive.mount('/gdrive')\n",
        "%cd /gdrive\n",
        "%cd \"My Drive\"\n",
        "!pwd\n",
        "!ls\n",
        "!cat \"Sample file.txt\""
      ],
      "execution_count": 4,
      "outputs": [
        {
          "output_type": "stream",
          "text": [
            "Drive already mounted at /gdrive; to attempt to forcibly remount, call drive.mount(\"/gdrive\", force_remount=True).\n",
            "/gdrive\n",
            "/gdrive/My Drive\n",
            "/gdrive/My Drive\n",
            "'Backup Apr 2019'\t'Copy of clip1-style-mixing-with-two-sources.mp4'\n",
            "'Backup Aug 2019'\t'Getting started.pdf'\n",
            "'Backup July 2019'\t'Kevin Sikorski-Final.jpg'\n",
            " BCG-Z0PSXXXXX\t\t'Sample file.txt'\n",
            " bookmarks_4_9_19.html\t splicePart.sh\n",
            "'Colab Notebooks'\t'What’s Up.pptx'\n",
            "Sample upload file content"
          ],
          "name": "stdout"
        }
      ]
    }
  ]
}